{
 "cells": [
  {
   "cell_type": "markdown",
   "id": "e0c7b14a-e5aa-4abc-b48b-b8a9d20dacac",
   "metadata": {},
   "source": [
    "# Assignment: Linear Models\n",
    "## Foundations of Machine Learning\n",
    "## Do Q1 and one other question"
   ]
  },
  {
   "cell_type": "markdown",
   "id": "25bf83c6-ff44-42d6-9b33-8be1b945860d",
   "metadata": {},
   "source": [
    "**Q1.** Load `./data/Q1_clean.csv`. The data include\n",
    "\n",
    "- `Price` per night\n",
    "- `Review Scores Rating`: The average rating for the property\n",
    "- `Neighbourhood `: The bourough of NYC. Note the space, or rename the variable.\n",
    "- `Property Type`: The kind of dwelling\n",
    "- `Room Type`: The kind of space being rented\n",
    "\n",
    "1. Compute the average prices and scores by `Neighbourhood `; which bourough is the most expensive on average? Create a kernel density plot of price and log price, grouping by `Neighbourhood `.\n"
   ]
  },
  {
   "cell_type": "code",
   "execution_count": 102,
   "id": "695ac8d4",
   "metadata": {},
   "outputs": [
    {
     "data": {
      "text/html": [
       "<div>\n",
       "<style scoped>\n",
       "    .dataframe tbody tr th:only-of-type {\n",
       "        vertical-align: middle;\n",
       "    }\n",
       "\n",
       "    .dataframe tbody tr th {\n",
       "        vertical-align: top;\n",
       "    }\n",
       "\n",
       "    .dataframe thead tr th {\n",
       "        text-align: left;\n",
       "    }\n",
       "\n",
       "    .dataframe thead tr:last-of-type th {\n",
       "        text-align: right;\n",
       "    }\n",
       "</style>\n",
       "<table border=\"1\" class=\"dataframe\">\n",
       "  <thead>\n",
       "    <tr>\n",
       "      <th></th>\n",
       "      <th colspan=\"8\" halign=\"left\">Price</th>\n",
       "    </tr>\n",
       "    <tr>\n",
       "      <th></th>\n",
       "      <th>count</th>\n",
       "      <th>mean</th>\n",
       "      <th>std</th>\n",
       "      <th>min</th>\n",
       "      <th>25%</th>\n",
       "      <th>50%</th>\n",
       "      <th>75%</th>\n",
       "      <th>max</th>\n",
       "    </tr>\n",
       "    <tr>\n",
       "      <th>Neighbourhood</th>\n",
       "      <th></th>\n",
       "      <th></th>\n",
       "      <th></th>\n",
       "      <th></th>\n",
       "      <th></th>\n",
       "      <th></th>\n",
       "      <th></th>\n",
       "      <th></th>\n",
       "    </tr>\n",
       "  </thead>\n",
       "  <tbody>\n",
       "    <tr>\n",
       "      <th>Bronx</th>\n",
       "      <td>217.0</td>\n",
       "      <td>75.276498</td>\n",
       "      <td>39.755468</td>\n",
       "      <td>10.0</td>\n",
       "      <td>50.00</td>\n",
       "      <td>60.0</td>\n",
       "      <td>90.0</td>\n",
       "      <td>244.0</td>\n",
       "    </tr>\n",
       "    <tr>\n",
       "      <th>Brooklyn</th>\n",
       "      <td>8487.0</td>\n",
       "      <td>127.747378</td>\n",
       "      <td>106.038466</td>\n",
       "      <td>20.0</td>\n",
       "      <td>75.00</td>\n",
       "      <td>100.0</td>\n",
       "      <td>150.0</td>\n",
       "      <td>4500.0</td>\n",
       "    </tr>\n",
       "    <tr>\n",
       "      <th>Manhattan</th>\n",
       "      <td>11763.0</td>\n",
       "      <td>183.664286</td>\n",
       "      <td>170.434606</td>\n",
       "      <td>25.0</td>\n",
       "      <td>103.00</td>\n",
       "      <td>150.0</td>\n",
       "      <td>214.0</td>\n",
       "      <td>10000.0</td>\n",
       "    </tr>\n",
       "    <tr>\n",
       "      <th>Queens</th>\n",
       "      <td>1590.0</td>\n",
       "      <td>96.857233</td>\n",
       "      <td>61.712648</td>\n",
       "      <td>25.0</td>\n",
       "      <td>60.00</td>\n",
       "      <td>80.0</td>\n",
       "      <td>115.0</td>\n",
       "      <td>950.0</td>\n",
       "    </tr>\n",
       "    <tr>\n",
       "      <th>Staten Island</th>\n",
       "      <td>96.0</td>\n",
       "      <td>146.166667</td>\n",
       "      <td>508.462029</td>\n",
       "      <td>35.0</td>\n",
       "      <td>54.75</td>\n",
       "      <td>71.0</td>\n",
       "      <td>99.0</td>\n",
       "      <td>5000.0</td>\n",
       "    </tr>\n",
       "  </tbody>\n",
       "</table>\n",
       "</div>"
      ],
      "text/plain": [
       "                  Price                                                      \\\n",
       "                  count        mean         std   min     25%    50%    75%   \n",
       "Neighbourhood                                                                 \n",
       "Bronx             217.0   75.276498   39.755468  10.0   50.00   60.0   90.0   \n",
       "Brooklyn         8487.0  127.747378  106.038466  20.0   75.00  100.0  150.0   \n",
       "Manhattan       11763.0  183.664286  170.434606  25.0  103.00  150.0  214.0   \n",
       "Queens           1590.0   96.857233   61.712648  25.0   60.00   80.0  115.0   \n",
       "Staten Island      96.0  146.166667  508.462029  35.0   54.75   71.0   99.0   \n",
       "\n",
       "                         \n",
       "                    max  \n",
       "Neighbourhood            \n",
       "Bronx             244.0  \n",
       "Brooklyn         4500.0  \n",
       "Manhattan       10000.0  \n",
       "Queens            950.0  \n",
       "Staten Island    5000.0  "
      ]
     },
     "execution_count": 102,
     "metadata": {},
     "output_type": "execute_result"
    }
   ],
   "source": [
    "import pandas as pd\n",
    "import numpy as np\n",
    "import matplotlib.pyplot as plt\n",
    "import seaborn as sns\n",
    "\n",
    "df = pd.read_csv('./data/Q1_clean.csv')\n",
    "\n",
    "#seeing which bourough in Neighbourhood is the most expensive\n",
    "df.loc[:,['Price','Neighbourhood '] ].groupby('Neighbourhood ').describe() \n",
    "\n",
    "#for some weird reason neighborhood has a space after?"
   ]
  },
  {
   "cell_type": "markdown",
   "id": "081be8ba",
   "metadata": {},
   "source": [
    "*On average, Manhatton is the most expensive bourough in the dataset.*"
   ]
  },
  {
   "cell_type": "code",
   "execution_count": 103,
   "id": "f450eb3d",
   "metadata": {},
   "outputs": [],
   "source": [
    "#fixing neighborhood\n",
    "df = df.rename(columns = {'Neighbourhood ': 'Neighbourhood'})\n",
    "#https://pandas.pydata.org/pandas-docs/stable/reference/api/pandas.DataFrame.replace.html"
   ]
  },
  {
   "cell_type": "code",
   "execution_count": 104,
   "id": "516bbc4a",
   "metadata": {},
   "outputs": [
    {
     "data": {
      "image/png": "[encoded data removed]",
      "text/plain": [
       "<Figure size 640x480 with 1 Axes>"
      ]
     },
     "metadata": {},
     "output_type": "display_data"
    },
    {
     "data": {
      "image/png": "[encoded data removed]",
      "text/plain": [
       "<Figure size 640x480 with 1 Axes>"
      ]
     },
     "metadata": {},
     "output_type": "display_data"
    }
   ],
   "source": [
    "#creating a kernel density plot of price and log price, grouping by `Neighbourhood`\n",
    "#price\n",
    "price = df['Price']\n",
    "neighborhood = df['Neighbourhood']\n",
    "\n",
    "sns.kdeplot(x=price, hue=neighborhood)\n",
    "plt.title('Kernel Density Plot of Price by Neighbourhood')\n",
    "plt.show()\n",
    "\n",
    "#log price\n",
    "sns.kdeplot(x=np.log(price), hue=neighborhood)\n",
    "plt.title('Kernel Density Plot of Log Price by Neighbourhood')\n",
    "plt.show()"
   ]
  },
  {
   "cell_type": "markdown",
   "id": "ca925ed8",
   "metadata": {},
   "source": [
    "2. Regress price on `Neighbourhood ` by creating the appropriate dummy/one-hot-encoded variables, without an intercept in the linear model and using all the data. Compare the coefficients in the regression to the table from part 1. What pattern do you see? What are the coefficients in a regression of a continuous variable on one categorical variable?\n"
   ]
  },
  {
   "cell_type": "code",
   "execution_count": 105,
   "id": "4bcfbb3c",
   "metadata": {},
   "outputs": [
    {
     "name": "stdout",
     "output_type": "stream",
     "text": [
      "R-squared:  0.04631389606035197\n"
     ]
    },
    {
     "data": {
      "text/html": [
       "<div>\n",
       "<style scoped>\n",
       "    .dataframe tbody tr th:only-of-type {\n",
       "        vertical-align: middle;\n",
       "    }\n",
       "\n",
       "    .dataframe tbody tr th {\n",
       "        vertical-align: top;\n",
       "    }\n",
       "\n",
       "    .dataframe thead th {\n",
       "        text-align: right;\n",
       "    }\n",
       "</style>\n",
       "<table border=\"1\" class=\"dataframe\">\n",
       "  <thead>\n",
       "    <tr style=\"text-align: right;\">\n",
       "      <th></th>\n",
       "      <th>variable</th>\n",
       "      <th>coefficient</th>\n",
       "    </tr>\n",
       "  </thead>\n",
       "  <tbody>\n",
       "    <tr>\n",
       "      <th>0</th>\n",
       "      <td>Bronx</td>\n",
       "      <td>75.276498</td>\n",
       "    </tr>\n",
       "    <tr>\n",
       "      <th>1</th>\n",
       "      <td>Brooklyn</td>\n",
       "      <td>127.747378</td>\n",
       "    </tr>\n",
       "    <tr>\n",
       "      <th>2</th>\n",
       "      <td>Manhattan</td>\n",
       "      <td>183.664286</td>\n",
       "    </tr>\n",
       "    <tr>\n",
       "      <th>3</th>\n",
       "      <td>Queens</td>\n",
       "      <td>96.857233</td>\n",
       "    </tr>\n",
       "    <tr>\n",
       "      <th>4</th>\n",
       "      <td>Staten Island</td>\n",
       "      <td>146.166667</td>\n",
       "    </tr>\n",
       "  </tbody>\n",
       "</table>\n",
       "</div>"
      ],
      "text/plain": [
       "        variable  coefficient\n",
       "0          Bronx    75.276498\n",
       "1       Brooklyn   127.747378\n",
       "2      Manhattan   183.664286\n",
       "3         Queens    96.857233\n",
       "4  Staten Island   146.166667"
      ]
     },
     "execution_count": 105,
     "metadata": {},
     "output_type": "execute_result"
    }
   ],
   "source": [
    "from sklearn import linear_model\n",
    "\n",
    "#creating dummy on neighborhood variable\n",
    "x = pd.get_dummies(neighborhood, dtype='int')\n",
    "\n",
    "#running regression w/o intercept\n",
    "reg = linear_model.LinearRegression(fit_intercept=False).fit(x,price) \n",
    "\n",
    "#collection the coeffiecnts as results (from Simple regression on brand dummies)\n",
    "results = pd.DataFrame({'variable':reg.feature_names_in_, 'coefficient': reg.coef_})\n",
    "print('R-squared: ', reg.score(x, price)) \n",
    "results"
   ]
  },
  {
   "cell_type": "markdown",
   "id": "168b78e1",
   "metadata": {},
   "source": [
    "*From part 1, the average values for each neighborhood are the same as the results you'd get if you did a regression analysis using neighborhood categories. The regression is calculating average for each group, because it is not considering any other factors in the dataset. When looking at the regression results for these neighborhood categories, they're showing the average for each group, but this time it takes into account all the other factors included in the regression analysis.*"
   ]
  },
  {
   "cell_type": "markdown",
   "id": "9acc1b95",
   "metadata": {},
   "source": [
    "3. Repeat part 2, but leave an intercept in the linear model. How do you have to handle the creation of the dummies differently? What is the intercept? Interpret the coefficients. How can I get the coefficients in part 2 from these new coefficients?\n"
   ]
  },
  {
   "cell_type": "code",
   "execution_count": 106,
   "id": "7c4e188c",
   "metadata": {},
   "outputs": [
    {
     "name": "stdout",
     "output_type": "stream",
     "text": [
      "R-squared:  0.04631389606035208\n"
     ]
    },
    {
     "data": {
      "text/html": [
       "<div>\n",
       "<style scoped>\n",
       "    .dataframe tbody tr th:only-of-type {\n",
       "        vertical-align: middle;\n",
       "    }\n",
       "\n",
       "    .dataframe tbody tr th {\n",
       "        vertical-align: top;\n",
       "    }\n",
       "\n",
       "    .dataframe thead th {\n",
       "        text-align: right;\n",
       "    }\n",
       "</style>\n",
       "<table border=\"1\" class=\"dataframe\">\n",
       "  <thead>\n",
       "    <tr style=\"text-align: right;\">\n",
       "      <th></th>\n",
       "      <th>variable</th>\n",
       "      <th>coefficient</th>\n",
       "    </tr>\n",
       "  </thead>\n",
       "  <tbody>\n",
       "    <tr>\n",
       "      <th>0</th>\n",
       "      <td>Brooklyn</td>\n",
       "      <td>52.470881</td>\n",
       "    </tr>\n",
       "    <tr>\n",
       "      <th>1</th>\n",
       "      <td>Manhattan</td>\n",
       "      <td>108.387789</td>\n",
       "    </tr>\n",
       "    <tr>\n",
       "      <th>2</th>\n",
       "      <td>Queens</td>\n",
       "      <td>21.580735</td>\n",
       "    </tr>\n",
       "    <tr>\n",
       "      <th>3</th>\n",
       "      <td>Staten Island</td>\n",
       "      <td>70.890169</td>\n",
       "    </tr>\n",
       "  </tbody>\n",
       "</table>\n",
       "</div>"
      ],
      "text/plain": [
       "        variable  coefficient\n",
       "0       Brooklyn    52.470881\n",
       "1      Manhattan   108.387789\n",
       "2         Queens    21.580735\n",
       "3  Staten Island    70.890169"
      ]
     },
     "execution_count": 106,
     "metadata": {},
     "output_type": "execute_result"
    }
   ],
   "source": [
    "#repeat part 2\n",
    "#creating dummy on neighborhood variable\n",
    "#x = pd.get_dummies(neighborhood, dtype='int') #didnt work with this one\n",
    "x = pd.get_dummies(neighborhood, dtype='int', drop_first = True)\n",
    "\n",
    "#running regression w/ intercept this time\n",
    "reg = linear_model.LinearRegression().fit(x,price) \n",
    "\n",
    "#collection the coeffiecnts as results (from Simple regression on brand dummies)\n",
    "results = pd.DataFrame({'variable':reg.feature_names_in_ , 'coefficient': reg.coef_})\n",
    "print('R-squared: ', reg.score(x, price)) \n",
    "results"
   ]
  },
  {
   "cell_type": "markdown",
   "id": "8775b4f0",
   "metadata": {},
   "source": [
    "*Difference in the creation of dummies was different as I needed to drop first (bronx) because I needed n-1 dummy variables. The dropped category (Bronx) becomes the reference category. The coefficients of the remaining dummy variables then represent the difference in the dependent variable relative to this baseline. The new calculated regression coefficients are now relative to the Bronx.* "
   ]
  },
  {
   "cell_type": "code",
   "execution_count": 107,
   "id": "f2e87f31",
   "metadata": {},
   "outputs": [
    {
     "data": {
      "text/plain": [
       "75.27649769584607"
      ]
     },
     "execution_count": 107,
     "metadata": {},
     "output_type": "execute_result"
    }
   ],
   "source": [
    "#getting the intercept from the regression model\n",
    "reg.intercept_"
   ]
  },
  {
   "cell_type": "markdown",
   "id": "70f88b5e",
   "metadata": {},
   "source": [
    "*The intercept is 75.276.*"
   ]
  },
  {
   "cell_type": "code",
   "execution_count": 108,
   "id": "d7a3a01a",
   "metadata": {},
   "outputs": [
    {
     "data": {
      "text/html": [
       "<div>\n",
       "<style scoped>\n",
       "    .dataframe tbody tr th:only-of-type {\n",
       "        vertical-align: middle;\n",
       "    }\n",
       "\n",
       "    .dataframe tbody tr th {\n",
       "        vertical-align: top;\n",
       "    }\n",
       "\n",
       "    .dataframe thead th {\n",
       "        text-align: right;\n",
       "    }\n",
       "</style>\n",
       "<table border=\"1\" class=\"dataframe\">\n",
       "  <thead>\n",
       "    <tr style=\"text-align: right;\">\n",
       "      <th></th>\n",
       "      <th>variable</th>\n",
       "      <th>coefficient</th>\n",
       "    </tr>\n",
       "  </thead>\n",
       "  <tbody>\n",
       "    <tr>\n",
       "      <th>0</th>\n",
       "      <td>Brooklyn</td>\n",
       "      <td>127.747378</td>\n",
       "    </tr>\n",
       "    <tr>\n",
       "      <th>1</th>\n",
       "      <td>Manhattan</td>\n",
       "      <td>183.664286</td>\n",
       "    </tr>\n",
       "    <tr>\n",
       "      <th>2</th>\n",
       "      <td>Queens</td>\n",
       "      <td>96.857233</td>\n",
       "    </tr>\n",
       "    <tr>\n",
       "      <th>3</th>\n",
       "      <td>Staten Island</td>\n",
       "      <td>146.166667</td>\n",
       "    </tr>\n",
       "  </tbody>\n",
       "</table>\n",
       "</div>"
      ],
      "text/plain": [
       "        variable  coefficient\n",
       "0       Brooklyn   127.747378\n",
       "1      Manhattan   183.664286\n",
       "2         Queens    96.857233\n",
       "3  Staten Island   146.166667"
      ]
     },
     "execution_count": 108,
     "metadata": {},
     "output_type": "execute_result"
    }
   ],
   "source": [
    "#getting coeffecients (need to add in the intercept)\n",
    "results = pd.DataFrame({'variable':reg.feature_names_in_, 'coefficient': reg.coef_+reg.intercept_})\n",
    "results"
   ]
  },
  {
   "cell_type": "markdown",
   "id": "2348cf93",
   "metadata": {},
   "source": [
    "*To get the coefficient values from pt1 you need to add the intercept value to the coefficient values from pt2.*"
   ]
  },
  {
   "cell_type": "markdown",
   "id": "ca610859",
   "metadata": {},
   "source": [
    "4. Split the sample 80/20 into a training and a test set. Run a regression of `Price` on `Review Scores Rating` and `Neighbourhood `. What is the $R^2$ and RMSE on the test set? What is the coefficient on `Review Scores Rating`? What is the most expensive kind of property you can rent?\n"
   ]
  },
  {
   "cell_type": "code",
   "execution_count": 109,
   "id": "8eafe0cf",
   "metadata": {},
   "outputs": [
    {
     "name": "stdout",
     "output_type": "stream",
     "text": [
      "R-squared:  0.06701086106947296\n",
      "RMSE:  125.01092061382933\n"
     ]
    },
    {
     "data": {
      "text/html": [
       "<div>\n",
       "<style scoped>\n",
       "    .dataframe tbody tr th:only-of-type {\n",
       "        vertical-align: middle;\n",
       "    }\n",
       "\n",
       "    .dataframe tbody tr th {\n",
       "        vertical-align: top;\n",
       "    }\n",
       "\n",
       "    .dataframe thead th {\n",
       "        text-align: right;\n",
       "    }\n",
       "</style>\n",
       "<table border=\"1\" class=\"dataframe\">\n",
       "  <thead>\n",
       "    <tr style=\"text-align: right;\">\n",
       "      <th></th>\n",
       "      <th>variable</th>\n",
       "      <th>coefficient</th>\n",
       "    </tr>\n",
       "  </thead>\n",
       "  <tbody>\n",
       "    <tr>\n",
       "      <th>0</th>\n",
       "      <td>Review Scores Rating</td>\n",
       "      <td>1.032257</td>\n",
       "    </tr>\n",
       "    <tr>\n",
       "      <th>1</th>\n",
       "      <td>Bronx</td>\n",
       "      <td>-17.261392</td>\n",
       "    </tr>\n",
       "    <tr>\n",
       "      <th>2</th>\n",
       "      <td>Brooklyn</td>\n",
       "      <td>32.180888</td>\n",
       "    </tr>\n",
       "    <tr>\n",
       "      <th>3</th>\n",
       "      <td>Manhattan</td>\n",
       "      <td>89.421020</td>\n",
       "    </tr>\n",
       "    <tr>\n",
       "      <th>4</th>\n",
       "      <td>Queens</td>\n",
       "      <td>4.050208</td>\n",
       "    </tr>\n",
       "    <tr>\n",
       "      <th>5</th>\n",
       "      <td>Staten Island</td>\n",
       "      <td>61.576393</td>\n",
       "    </tr>\n",
       "  </tbody>\n",
       "</table>\n",
       "</div>"
      ],
      "text/plain": [
       "               variable  coefficient\n",
       "0  Review Scores Rating     1.032257\n",
       "1                 Bronx   -17.261392\n",
       "2              Brooklyn    32.180888\n",
       "3             Manhattan    89.421020\n",
       "4                Queens     4.050208\n",
       "5         Staten Island    61.576393"
      ]
     },
     "execution_count": 109,
     "metadata": {},
     "output_type": "execute_result"
    }
   ],
   "source": [
    "from sklearn.model_selection import train_test_split\n",
    "\n",
    "#combining review scores rating and neighborhood \n",
    "price = df['Price']\n",
    "x = df.loc[:,['Review Scores Rating', 'Neighbourhood']]\n",
    "\n",
    "#splitting the dataset\n",
    "X_train, X_test, y_train, y_test = train_test_split(x,price, #target is price\n",
    "                                                    test_size=.2, #80 train / 20 test\n",
    "                                                    random_state=100) #For replication purposes\n",
    "\n",
    "#feature matrices for both train and test set (z)\n",
    "Z_train = pd.concat([X_train['Review Scores Rating'], \n",
    "                     pd.get_dummies(X_train['Neighbourhood'], dtype='int')], axis = 1)\n",
    "Z_test = pd.concat([X_test['Review Scores Rating'], \n",
    "                    pd.get_dummies(X_test['Neighbourhood'], dtype='int')], axis = 1)\n",
    "\n",
    "#run regression\n",
    "reg = linear_model.LinearRegression(fit_intercept=False).fit(Z_train,y_train)\n",
    "\n",
    "#Predictions\n",
    "y_hat = reg.predict(Z_test)\n",
    "\n",
    "#r squared value\n",
    "print('R-squared: ', reg.score(Z_test,y_test))\n",
    "\n",
    "#RMSE\n",
    "rmse = np.sqrt(np.mean((y_test-y_hat)**2))\n",
    "print('RMSE: ', rmse) \n",
    "\n",
    "#regression coefficients\n",
    "results = pd.DataFrame({'variable':reg.feature_names_in_, 'coefficient': reg.coef_})\n",
    "results\n"
   ]
  },
  {
   "cell_type": "markdown",
   "id": "1d27a4d0",
   "metadata": {},
   "source": [
    "*Manhattan is the most expesive property you can rent.*"
   ]
  },
  {
   "cell_type": "markdown",
   "id": "7cba2835",
   "metadata": {},
   "source": [
    "5. Split the sample 80/20 into a training and a test set. Run a regression of `Price` on `Review Scores Rating` and `Neighbourhood ` and `Property Type`. What is the $R^2$ and RMSE on the test set? What is the coefficient on `Review Scores Rating`? What is the most expensive kind of property you can rent?\n"
   ]
  },
  {
   "cell_type": "code",
   "execution_count": 110,
   "id": "64e05887",
   "metadata": {},
   "outputs": [
    {
     "name": "stdout",
     "output_type": "stream",
     "text": [
      "R-squared:  0.22035348129282295\n",
      "RMSE:  114.27692123130635\n"
     ]
    },
    {
     "data": {
      "text/html": [
       "<div>\n",
       "<style scoped>\n",
       "    .dataframe tbody tr th:only-of-type {\n",
       "        vertical-align: middle;\n",
       "    }\n",
       "\n",
       "    .dataframe tbody tr th {\n",
       "        vertical-align: top;\n",
       "    }\n",
       "\n",
       "    .dataframe thead th {\n",
       "        text-align: right;\n",
       "    }\n",
       "</style>\n",
       "<table border=\"1\" class=\"dataframe\">\n",
       "  <thead>\n",
       "    <tr style=\"text-align: right;\">\n",
       "      <th></th>\n",
       "      <th>variable</th>\n",
       "      <th>coefficient</th>\n",
       "    </tr>\n",
       "  </thead>\n",
       "  <tbody>\n",
       "    <tr>\n",
       "      <th>0</th>\n",
       "      <td>Review Scores Rating</td>\n",
       "      <td>0.626912</td>\n",
       "    </tr>\n",
       "    <tr>\n",
       "      <th>1</th>\n",
       "      <td>Bronx</td>\n",
       "      <td>-13.022765</td>\n",
       "    </tr>\n",
       "    <tr>\n",
       "      <th>2</th>\n",
       "      <td>Brooklyn</td>\n",
       "      <td>10.378456</td>\n",
       "    </tr>\n",
       "    <tr>\n",
       "      <th>3</th>\n",
       "      <td>Manhattan</td>\n",
       "      <td>53.693304</td>\n",
       "    </tr>\n",
       "    <tr>\n",
       "      <th>4</th>\n",
       "      <td>Queens</td>\n",
       "      <td>-6.833330</td>\n",
       "    </tr>\n",
       "    <tr>\n",
       "      <th>5</th>\n",
       "      <td>Staten Island</td>\n",
       "      <td>50.003022</td>\n",
       "    </tr>\n",
       "    <tr>\n",
       "      <th>6</th>\n",
       "      <td>Entire home/apt</td>\n",
       "      <td>110.617820</td>\n",
       "    </tr>\n",
       "    <tr>\n",
       "      <th>7</th>\n",
       "      <td>Private room</td>\n",
       "      <td>3.101341</td>\n",
       "    </tr>\n",
       "    <tr>\n",
       "      <th>8</th>\n",
       "      <td>Shared room</td>\n",
       "      <td>-19.500474</td>\n",
       "    </tr>\n",
       "  </tbody>\n",
       "</table>\n",
       "</div>"
      ],
      "text/plain": [
       "               variable  coefficient\n",
       "0  Review Scores Rating     0.626912\n",
       "1                 Bronx   -13.022765\n",
       "2              Brooklyn    10.378456\n",
       "3             Manhattan    53.693304\n",
       "4                Queens    -6.833330\n",
       "5         Staten Island    50.003022\n",
       "6       Entire home/apt   110.617820\n",
       "7          Private room     3.101341\n",
       "8           Shared room   -19.500474"
      ]
     },
     "execution_count": 110,
     "metadata": {},
     "output_type": "execute_result"
    }
   ],
   "source": [
    "#adding property type\n",
    "from sklearn.model_selection import train_test_split\n",
    "\n",
    "#combining review scores rating and neighborhood \n",
    "price = df['Price']\n",
    "x = df.loc[:,['Review Scores Rating', 'Neighbourhood', 'Room Type']]\n",
    "\n",
    "#splitting the dataset\n",
    "X_train, X_test, y_train, y_test = train_test_split(x,price, #target is price\n",
    "                                                    test_size=.2, #80 train / 20 test\n",
    "                                                    random_state=100) #For replication purposes\n",
    "\n",
    "#feature matrices for both train and test set (z)\n",
    "Z_train = pd.concat([X_train['Review Scores Rating'], pd.get_dummies(X_train['Neighbourhood'], dtype='int'), pd.get_dummies(X_train['Room Type'], dtype='int')], axis = 1)\n",
    "Z_test = pd.concat([X_test['Review Scores Rating'],  pd.get_dummies(X_test['Neighbourhood'], dtype='int'), pd.get_dummies(X_test['Room Type'], dtype='int')], axis = 1)\n",
    "\n",
    "#run regression\n",
    "reg = linear_model.LinearRegression(fit_intercept=False).fit(Z_train,y_train)\n",
    "\n",
    "#Predictions\n",
    "y_hat = reg.predict(Z_test)\n",
    "\n",
    "#r squared value\n",
    "print('R-squared: ', reg.score(Z_test,y_test))\n",
    "\n",
    "#RMSE\n",
    "rmse = np.sqrt(np.mean((y_test-y_hat)**2))\n",
    "print('RMSE: ', rmse) \n",
    "\n",
    "#regression coefficients\n",
    "results = pd.DataFrame({'variable':reg.feature_names_in_, 'coefficient': reg.coef_})\n",
    "results"
   ]
  },
  {
   "cell_type": "markdown",
   "id": "21f7ac48",
   "metadata": {},
   "source": [
    "*The coefficient on Review Scores Rating is 0.626912. Most expensive would be an entire home apt in manhattan.*"
   ]
  },
  {
   "cell_type": "markdown",
   "id": "d4f6b6ba",
   "metadata": {},
   "source": [
    "6. What does the coefficient on `Review Scores Rating` mean if it changes from part 4 to 5? Hint: Think about how multilple linear regression works.\n"
   ]
  },
  {
   "cell_type": "markdown",
   "id": "c42ea18a",
   "metadata": {},
   "source": [
    "*The change in the Review Scores Rating coefficient from part 4 to 5 in a regression analysis suggests that other factors are influencing the price. Initially, the coefficient shows how much rating impacts price alone. When additional factors, like room type, are included (in part 5), the coefficient adjusts to reflect this. A decrease in the coefficient indicates that factors like room type partly explain the price, reducing the isolated impact of ratings.*"
   ]
  },
  {
   "cell_type": "markdown",
   "id": "d04bd7a9",
   "metadata": {},
   "source": [
    "7. (Optional) We've included `Neighborhood ` and `Property Type` separately in the model. How do you interact them, so you can have \"A bedroom in Queens\" or \"A townhouse in Manhattan\". Split the sample 80/20 into a training and a test set and run a regression including that kind of \"property type X neighborhood\" dummy, plus `Review Scores Rating`. How does the slope coefficient for `Review Scores Rating`, the $R^2$, and the RMSE change? Do they increase significantly compares to part 5? Are the coefficients in this regression just the sum of the coefficients for `Neighbourhood ` and `Property Type` from 5? What is the most expensive kind of property you can rent? "
   ]
  },
  {
   "cell_type": "code",
   "execution_count": 111,
   "id": "9853fc03",
   "metadata": {},
   "outputs": [],
   "source": [
    "#will return to"
   ]
  },
  {
   "cell_type": "markdown",
   "id": "95f22300-0180-4ed2-be8f-ed56cf4cd36b",
   "metadata": {},
   "source": [
    "**Q2.** This question is a case study for linear models. The data are about car prices. In particular, they include:\n",
    "\n",
    "  - `Price`, `Color`, `Seating_Capacity`\n",
    "  - `Body_Type`: crossover, hatchback, muv, sedan, suv \n",
    "  - `Make`, `Make_Year`: The brand of car and year produced\n",
    "  - `Mileage_Run`: The number of miles on the odometer\n",
    "  - `Fuel_Type`: Diesel or gasoline/petrol\n",
    "  - `Transmission`, `Transmission_Type`:  speeds and automatic/manual\n",
    "\n",
    "  1. Load `cars_hw.csv`. These data were really dirty, and I've already cleaned them a significant amount in terms of missing values and other issues, but some issues remain (e.g. outliers, badly scaled variables that require a log or arcsinh transformation). Clean the data however you think is most appropriate.\n"
   ]
  },
  {
   "cell_type": "code",
   "execution_count": 112,
   "id": "03f0ce43",
   "metadata": {},
   "outputs": [
    {
     "data": {
      "text/html": [
       "<div>\n",
       "<style scoped>\n",
       "    .dataframe tbody tr th:only-of-type {\n",
       "        vertical-align: middle;\n",
       "    }\n",
       "\n",
       "    .dataframe tbody tr th {\n",
       "        vertical-align: top;\n",
       "    }\n",
       "\n",
       "    .dataframe thead th {\n",
       "        text-align: right;\n",
       "    }\n",
       "</style>\n",
       "<table border=\"1\" class=\"dataframe\">\n",
       "  <thead>\n",
       "    <tr style=\"text-align: right;\">\n",
       "      <th></th>\n",
       "      <th>Unnamed: 0</th>\n",
       "      <th>Make</th>\n",
       "      <th>Make_Year</th>\n",
       "      <th>Color</th>\n",
       "      <th>Body_Type</th>\n",
       "      <th>Mileage_Run</th>\n",
       "      <th>No_of_Owners</th>\n",
       "      <th>Seating_Capacity</th>\n",
       "      <th>Fuel_Type</th>\n",
       "      <th>Transmission</th>\n",
       "      <th>Transmission_Type</th>\n",
       "      <th>Price</th>\n",
       "    </tr>\n",
       "  </thead>\n",
       "  <tbody>\n",
       "    <tr>\n",
       "      <th>0</th>\n",
       "      <td>1</td>\n",
       "      <td>Volkswagen</td>\n",
       "      <td>2017</td>\n",
       "      <td>silver</td>\n",
       "      <td>sedan</td>\n",
       "      <td>44611</td>\n",
       "      <td>1st</td>\n",
       "      <td>5</td>\n",
       "      <td>diesel</td>\n",
       "      <td>7-Speed</td>\n",
       "      <td>Automatic</td>\n",
       "      <td>657000</td>\n",
       "    </tr>\n",
       "    <tr>\n",
       "      <th>1</th>\n",
       "      <td>2</td>\n",
       "      <td>Hyundai</td>\n",
       "      <td>2016</td>\n",
       "      <td>red</td>\n",
       "      <td>crossover</td>\n",
       "      <td>20305</td>\n",
       "      <td>1st</td>\n",
       "      <td>5</td>\n",
       "      <td>petrol</td>\n",
       "      <td>5-Speed</td>\n",
       "      <td>Manual</td>\n",
       "      <td>682000</td>\n",
       "    </tr>\n",
       "    <tr>\n",
       "      <th>2</th>\n",
       "      <td>3</td>\n",
       "      <td>Honda</td>\n",
       "      <td>2019</td>\n",
       "      <td>white</td>\n",
       "      <td>suv</td>\n",
       "      <td>29540</td>\n",
       "      <td>2nd</td>\n",
       "      <td>5</td>\n",
       "      <td>petrol</td>\n",
       "      <td>5-Speed</td>\n",
       "      <td>Manual</td>\n",
       "      <td>793000</td>\n",
       "    </tr>\n",
       "    <tr>\n",
       "      <th>3</th>\n",
       "      <td>4</td>\n",
       "      <td>Renault</td>\n",
       "      <td>2017</td>\n",
       "      <td>bronze</td>\n",
       "      <td>hatchback</td>\n",
       "      <td>35680</td>\n",
       "      <td>1st</td>\n",
       "      <td>5</td>\n",
       "      <td>petrol</td>\n",
       "      <td>5-Speed</td>\n",
       "      <td>Manual</td>\n",
       "      <td>414000</td>\n",
       "    </tr>\n",
       "    <tr>\n",
       "      <th>4</th>\n",
       "      <td>5</td>\n",
       "      <td>Hyundai</td>\n",
       "      <td>2017</td>\n",
       "      <td>orange</td>\n",
       "      <td>hatchback</td>\n",
       "      <td>25126</td>\n",
       "      <td>1st</td>\n",
       "      <td>5</td>\n",
       "      <td>petrol</td>\n",
       "      <td>5-Speed</td>\n",
       "      <td>Manual</td>\n",
       "      <td>515000</td>\n",
       "    </tr>\n",
       "  </tbody>\n",
       "</table>\n",
       "</div>"
      ],
      "text/plain": [
       "   Unnamed: 0        Make  Make_Year   Color  Body_Type  Mileage_Run  \\\n",
       "0           1  Volkswagen       2017  silver      sedan        44611   \n",
       "1           2     Hyundai       2016     red  crossover        20305   \n",
       "2           3       Honda       2019   white        suv        29540   \n",
       "3           4     Renault       2017  bronze  hatchback        35680   \n",
       "4           5     Hyundai       2017  orange  hatchback        25126   \n",
       "\n",
       "  No_of_Owners  Seating_Capacity Fuel_Type Transmission Transmission_Type  \\\n",
       "0          1st                 5    diesel      7-Speed         Automatic   \n",
       "1          1st                 5    petrol      5-Speed            Manual   \n",
       "2          2nd                 5    petrol      5-Speed            Manual   \n",
       "3          1st                 5    petrol      5-Speed            Manual   \n",
       "4          1st                 5    petrol      5-Speed            Manual   \n",
       "\n",
       "    Price  \n",
       "0  657000  \n",
       "1  682000  \n",
       "2  793000  \n",
       "3  414000  \n",
       "4  515000  "
      ]
     },
     "execution_count": 112,
     "metadata": {},
     "output_type": "execute_result"
    }
   ],
   "source": [
    "import pandas as pd\n",
    "import numpy as np\n",
    "import seaborn as sns\n",
    "\n",
    "df = pd.read_csv('./data/cars_hw.csv')\n",
    "\n",
    "df.head() #looks fine for now, will return on cleaning if needed"
   ]
  },
  {
   "cell_type": "code",
   "execution_count": 113,
   "id": "db5e3bde",
   "metadata": {},
   "outputs": [],
   "source": [
    "#arcsining both price and mileage\n",
    "df['PriceArc'] = np.arcsinh(df['Price'])\n",
    "df['MileageArc'] = np.arcsinh(df['Mileage_Run'])"
   ]
  },
  {
   "cell_type": "markdown",
   "id": "cc584c29",
   "metadata": {},
   "source": [
    "  2. Summarize the `Price` variable and create a kernel density plot. Use `.groupby()` and `.describe()` to summarize prices by brand (`Make`). Make a grouped kernel density plot by `Make`. Which car brands are the most expensive? What do prices look like in general?\n"
   ]
  },
  {
   "cell_type": "code",
   "execution_count": 115,
   "id": "65fbcbe2",
   "metadata": {},
   "outputs": [
    {
     "data": {
      "text/html": [
       "<div>\n",
       "<style scoped>\n",
       "    .dataframe tbody tr th:only-of-type {\n",
       "        vertical-align: middle;\n",
       "    }\n",
       "\n",
       "    .dataframe tbody tr th {\n",
       "        vertical-align: top;\n",
       "    }\n",
       "\n",
       "    .dataframe thead th {\n",
       "        text-align: right;\n",
       "    }\n",
       "</style>\n",
       "<table border=\"1\" class=\"dataframe\">\n",
       "  <thead>\n",
       "    <tr style=\"text-align: right;\">\n",
       "      <th></th>\n",
       "      <th>count</th>\n",
       "      <th>mean</th>\n",
       "      <th>std</th>\n",
       "      <th>min</th>\n",
       "      <th>25%</th>\n",
       "      <th>50%</th>\n",
       "      <th>75%</th>\n",
       "      <th>max</th>\n",
       "    </tr>\n",
       "    <tr>\n",
       "      <th>Make</th>\n",
       "      <th></th>\n",
       "      <th></th>\n",
       "      <th></th>\n",
       "      <th></th>\n",
       "      <th></th>\n",
       "      <th></th>\n",
       "      <th></th>\n",
       "      <th></th>\n",
       "    </tr>\n",
       "  </thead>\n",
       "  <tbody>\n",
       "    <tr>\n",
       "      <th>Chevrolet</th>\n",
       "      <td>6.0</td>\n",
       "      <td>13.613042</td>\n",
       "      <td>0.480975</td>\n",
       "      <td>13.188151</td>\n",
       "      <td>13.261539</td>\n",
       "      <td>13.445433</td>\n",
       "      <td>13.864828</td>\n",
       "      <td>14.394369</td>\n",
       "    </tr>\n",
       "    <tr>\n",
       "      <th>Datsun</th>\n",
       "      <td>3.0</td>\n",
       "      <td>13.269194</td>\n",
       "      <td>0.036311</td>\n",
       "      <td>13.232114</td>\n",
       "      <td>13.251449</td>\n",
       "      <td>13.270783</td>\n",
       "      <td>13.287734</td>\n",
       "      <td>13.304685</td>\n",
       "    </tr>\n",
       "    <tr>\n",
       "      <th>Ford</th>\n",
       "      <td>52.0</td>\n",
       "      <td>14.161427</td>\n",
       "      <td>0.210895</td>\n",
       "      <td>13.270783</td>\n",
       "      <td>14.054527</td>\n",
       "      <td>14.162640</td>\n",
       "      <td>14.269131</td>\n",
       "      <td>14.572571</td>\n",
       "    </tr>\n",
       "    <tr>\n",
       "      <th>Honda</th>\n",
       "      <td>73.0</td>\n",
       "      <td>14.229465</td>\n",
       "      <td>0.336972</td>\n",
       "      <td>13.356645</td>\n",
       "      <td>13.965653</td>\n",
       "      <td>14.266586</td>\n",
       "      <td>14.419827</td>\n",
       "      <td>14.938490</td>\n",
       "    </tr>\n",
       "    <tr>\n",
       "      <th>Hyundai</th>\n",
       "      <td>305.0</td>\n",
       "      <td>14.061658</td>\n",
       "      <td>0.398781</td>\n",
       "      <td>13.114331</td>\n",
       "      <td>13.785051</td>\n",
       "      <td>14.059241</td>\n",
       "      <td>14.330727</td>\n",
       "      <td>15.063692</td>\n",
       "    </tr>\n",
       "    <tr>\n",
       "      <th>Jeep</th>\n",
       "      <td>4.0</td>\n",
       "      <td>14.909738</td>\n",
       "      <td>0.105084</td>\n",
       "      <td>14.763300</td>\n",
       "      <td>14.876417</td>\n",
       "      <td>14.933413</td>\n",
       "      <td>14.966733</td>\n",
       "      <td>15.008827</td>\n",
       "    </tr>\n",
       "    <tr>\n",
       "      <th>Kia</th>\n",
       "      <td>8.0</td>\n",
       "      <td>14.985324</td>\n",
       "      <td>0.076877</td>\n",
       "      <td>14.822738</td>\n",
       "      <td>14.965389</td>\n",
       "      <td>14.996253</td>\n",
       "      <td>15.042662</td>\n",
       "      <td>15.063117</td>\n",
       "    </tr>\n",
       "    <tr>\n",
       "      <th>MG Motors</th>\n",
       "      <td>35.0</td>\n",
       "      <td>15.132199</td>\n",
       "      <td>0.066263</td>\n",
       "      <td>14.971763</td>\n",
       "      <td>15.088892</td>\n",
       "      <td>15.122762</td>\n",
       "      <td>15.190744</td>\n",
       "      <td>15.211260</td>\n",
       "    </tr>\n",
       "    <tr>\n",
       "      <th>Mahindra</th>\n",
       "      <td>18.0</td>\n",
       "      <td>14.592100</td>\n",
       "      <td>0.159906</td>\n",
       "      <td>14.280502</td>\n",
       "      <td>14.544955</td>\n",
       "      <td>14.598828</td>\n",
       "      <td>14.654396</td>\n",
       "      <td>14.890513</td>\n",
       "    </tr>\n",
       "    <tr>\n",
       "      <th>Maruti Suzuki</th>\n",
       "      <td>293.0</td>\n",
       "      <td>13.911280</td>\n",
       "      <td>0.371409</td>\n",
       "      <td>13.068963</td>\n",
       "      <td>13.619496</td>\n",
       "      <td>13.868103</td>\n",
       "      <td>14.239470</td>\n",
       "      <td>14.659661</td>\n",
       "    </tr>\n",
       "    <tr>\n",
       "      <th>Nissan</th>\n",
       "      <td>4.0</td>\n",
       "      <td>14.334341</td>\n",
       "      <td>0.392610</td>\n",
       "      <td>13.764217</td>\n",
       "      <td>14.230922</td>\n",
       "      <td>14.481870</td>\n",
       "      <td>14.585290</td>\n",
       "      <td>14.609408</td>\n",
       "    </tr>\n",
       "    <tr>\n",
       "      <th>Renault</th>\n",
       "      <td>68.0</td>\n",
       "      <td>14.044009</td>\n",
       "      <td>0.331717</td>\n",
       "      <td>13.260385</td>\n",
       "      <td>13.764211</td>\n",
       "      <td>14.068542</td>\n",
       "      <td>14.286754</td>\n",
       "      <td>14.660520</td>\n",
       "    </tr>\n",
       "    <tr>\n",
       "      <th>Skoda</th>\n",
       "      <td>5.0</td>\n",
       "      <td>14.334011</td>\n",
       "      <td>0.827046</td>\n",
       "      <td>13.678545</td>\n",
       "      <td>13.745088</td>\n",
       "      <td>13.888761</td>\n",
       "      <td>14.770252</td>\n",
       "      <td>15.587407</td>\n",
       "    </tr>\n",
       "    <tr>\n",
       "      <th>Tata</th>\n",
       "      <td>23.0</td>\n",
       "      <td>14.406552</td>\n",
       "      <td>0.615090</td>\n",
       "      <td>12.837344</td>\n",
       "      <td>14.259530</td>\n",
       "      <td>14.368246</td>\n",
       "      <td>14.944517</td>\n",
       "      <td>15.250595</td>\n",
       "    </tr>\n",
       "    <tr>\n",
       "      <th>Toyota</th>\n",
       "      <td>50.0</td>\n",
       "      <td>14.228654</td>\n",
       "      <td>0.360112</td>\n",
       "      <td>13.508985</td>\n",
       "      <td>13.864561</td>\n",
       "      <td>14.396608</td>\n",
       "      <td>14.531374</td>\n",
       "      <td>14.596669</td>\n",
       "    </tr>\n",
       "    <tr>\n",
       "      <th>Volkswagen</th>\n",
       "      <td>29.0</td>\n",
       "      <td>13.987889</td>\n",
       "      <td>0.203839</td>\n",
       "      <td>13.597355</td>\n",
       "      <td>13.896168</td>\n",
       "      <td>14.009431</td>\n",
       "      <td>14.150553</td>\n",
       "      <td>14.272935</td>\n",
       "    </tr>\n",
       "  </tbody>\n",
       "</table>\n",
       "</div>"
      ],
      "text/plain": [
       "               count       mean       std        min        25%        50%  \\\n",
       "Make                                                                         \n",
       "Chevrolet        6.0  13.613042  0.480975  13.188151  13.261539  13.445433   \n",
       "Datsun           3.0  13.269194  0.036311  13.232114  13.251449  13.270783   \n",
       "Ford            52.0  14.161427  0.210895  13.270783  14.054527  14.162640   \n",
       "Honda           73.0  14.229465  0.336972  13.356645  13.965653  14.266586   \n",
       "Hyundai        305.0  14.061658  0.398781  13.114331  13.785051  14.059241   \n",
       "Jeep             4.0  14.909738  0.105084  14.763300  14.876417  14.933413   \n",
       "Kia              8.0  14.985324  0.076877  14.822738  14.965389  14.996253   \n",
       "MG Motors       35.0  15.132199  0.066263  14.971763  15.088892  15.122762   \n",
       "Mahindra        18.0  14.592100  0.159906  14.280502  14.544955  14.598828   \n",
       "Maruti Suzuki  293.0  13.911280  0.371409  13.068963  13.619496  13.868103   \n",
       "Nissan           4.0  14.334341  0.392610  13.764217  14.230922  14.481870   \n",
       "Renault         68.0  14.044009  0.331717  13.260385  13.764211  14.068542   \n",
       "Skoda            5.0  14.334011  0.827046  13.678545  13.745088  13.888761   \n",
       "Tata            23.0  14.406552  0.615090  12.837344  14.259530  14.368246   \n",
       "Toyota          50.0  14.228654  0.360112  13.508985  13.864561  14.396608   \n",
       "Volkswagen      29.0  13.987889  0.203839  13.597355  13.896168  14.009431   \n",
       "\n",
       "                     75%        max  \n",
       "Make                                 \n",
       "Chevrolet      13.864828  14.394369  \n",
       "Datsun         13.287734  13.304685  \n",
       "Ford           14.269131  14.572571  \n",
       "Honda          14.419827  14.938490  \n",
       "Hyundai        14.330727  15.063692  \n",
       "Jeep           14.966733  15.008827  \n",
       "Kia            15.042662  15.063117  \n",
       "MG Motors      15.190744  15.211260  \n",
       "Mahindra       14.654396  14.890513  \n",
       "Maruti Suzuki  14.239470  14.659661  \n",
       "Nissan         14.585290  14.609408  \n",
       "Renault        14.286754  14.660520  \n",
       "Skoda          14.770252  15.587407  \n",
       "Tata           14.944517  15.250595  \n",
       "Toyota         14.531374  14.596669  \n",
       "Volkswagen     14.150553  14.272935  "
      ]
     },
     "execution_count": 115,
     "metadata": {},
     "output_type": "execute_result"
    }
   ],
   "source": [
    "#summarizing price variable with a .groupby() and .describe()\n",
    "df['PriceArc'].groupby(df['Make']).describe()"
   ]
  },
  {
   "cell_type": "code",
   "execution_count": 116,
   "id": "08f99051",
   "metadata": {},
   "outputs": [
    {
     "data": {
      "text/plain": [
       "<Axes: xlabel='PriceArc', ylabel='Density'>"
      ]
     },
     "execution_count": 116,
     "metadata": {},
     "output_type": "execute_result"
    },
    {
     "data": {
      "image/png": "[encoded data removed]",
      "text/plain": [
       "<Figure size 640x480 with 1 Axes>"
      ]
     },
     "metadata": {},
     "output_type": "display_data"
    }
   ],
   "source": [
    "#creating the kde plot for price\n",
    "sns.kdeplot(data = df, x='PriceArc',hue='Make')"
   ]
  },
  {
   "cell_type": "markdown",
   "id": "8dc7406c",
   "metadata": {},
   "source": [
    "*MG Motors is the most expensive car brand. In general prices seem to only have 1 peak for most car brands. There are a couple brands that have multiple peaks though like volkswagon.*"
   ]
  },
  {
   "cell_type": "markdown",
   "id": "ce21dc26",
   "metadata": {},
   "source": [
    "  3. Split the data into an 80% training set and a 20% testing set.\n",
    " "
   ]
  },
  {
   "cell_type": "code",
   "execution_count": 117,
   "id": "cf9dec45",
   "metadata": {},
   "outputs": [],
   "source": [
    "#randomizing the dataframe\n",
    "dfSize = df.shape[0]\n",
    "#randomize the order\n",
    "df = df.sample(frac=1, random_state=100)\n",
    "train_size = int(.8*dfSize) #split 80/20\n",
    "\n",
    "#splitting training set\n",
    "df_train = df[0:train_size]\n",
    "y_train = df_train['PriceArc']\n",
    "\n",
    "#splitting test\n",
    "df_test = df[train_size:]\n",
    "y_test = df_test['PriceArc']"
   ]
  },
  {
   "cell_type": "markdown",
   "id": "4b9ea295",
   "metadata": {},
   "source": [
    " 4. Make a model where you regress price on the numeric variables alone; what is the $R^2$ and `RMSE` on the training set and test set? Make a second model where, for the categorical variables, you regress price on a model comprised of one-hot encoded regressors/features alone (you can use `pd.get_dummies()`; be careful of the dummy variable trap); what is the $R^2$ and `RMSE` on the test set? Which model performs better on the test set? Make a third model that combines all the regressors from the previous two; what is the $R^2$ and `RMSE` on the test set? Does the joint model perform better or worse, and by home much?\n"
   ]
  },
  {
   "cell_type": "code",
   "execution_count": 118,
   "id": "b26785d4",
   "metadata": {},
   "outputs": [
    {
     "name": "stdout",
     "output_type": "stream",
     "text": [
      "Numeric only Rsq:  0.45254262356326824\n",
      "Numeric only RMSE:  0.3339265473590646\n"
     ]
    }
   ],
   "source": [
    "#regression on numeric:\n",
    "#selected variables for the model\n",
    "selected_vars = ['age', 'MileageArc', 'Seating_Capacity']\n",
    "\n",
    "#preparing training data with selected features\n",
    "training_data = df_train.loc[:, selected_vars]\n",
    "\n",
    "#running linear regression model on training data\n",
    "linear_model_reg = linear_model.LinearRegression().fit(training_data, y_train)\n",
    "\n",
    "#test data with the same selected features\n",
    "test_data = df_test.loc[:, selected_vars]\n",
    "\n",
    "#predicting values from model\n",
    "predicted_values = linear_model_reg.predict(test_data)\n",
    "\n",
    "#r sqiared\n",
    "test_set_r_squared = linear_model_reg.score(test_data, y_test)\n",
    "print('Numeric only Rsq: ', test_set_r_squared)\n",
    "\n",
    "#RMSE\n",
    "test_set_rmse = np.sqrt(np.mean((y_test - predicted_values) ** 2))\n",
    "print('Numeric only RMSE: ', test_set_rmse)\n"
   ]
  },
  {
   "cell_type": "code",
   "execution_count": 119,
   "id": "eb176ba8",
   "metadata": {},
   "outputs": [
    {
     "name": "stdout",
     "output_type": "stream",
     "text": [
      "Categorical only Rsq:  0.6298129532407459\n",
      "Categorical only RMSE:  0.27459106425227287\n"
     ]
    }
   ],
   "source": [
    "#categorical regression:\n",
    "#selected categorical variables for the model\n",
    "categorical_vars = ['Make', 'Body_Type', 'Color', 'Fuel_Type', 'Transmission', 'Transmission_Type']\n",
    "\n",
    "#dummy variables for each categorical variable\n",
    "dummies = pd.DataFrame([])\n",
    "\n",
    "#looping through each categorical variable to create dummies\n",
    "for var in categorical_vars:\n",
    "    new_dummies = pd.get_dummies(df.loc[:, var], drop_first=True, dtype=int)\n",
    "    dummies = pd.concat([dummies, new_dummies], axis=1)\n",
    "\n",
    "#splitting data set\n",
    "train_size = len(y_train)\n",
    "X_train_c = dummies.iloc[0:train_size, :]\n",
    "X_test_c = dummies.iloc[train_size:, :]\n",
    "\n",
    "#running lin reg model\n",
    "regression_model_categorical = linear_model.LinearRegression().fit(X_train_c, y_train)\n",
    "\n",
    "#value prediction\n",
    "predicted_values_categorical = regression_model_categorical.predict(X_test_c)\n",
    "\n",
    "#r squared\n",
    "test_set_r_squared_categorical = regression_model_categorical.score(X_test_c, y_test)\n",
    "print('Categorical only Rsq: ', test_set_r_squared_categorical)\n",
    "\n",
    "#RMSE\n",
    "test_set_rmse_categorical = np.sqrt(np.mean((y_test - predicted_values_categorical) ** 2))\n",
    "print('Categorical only RMSE: ', test_set_rmse_categorical)\n"
   ]
  },
  {
   "cell_type": "markdown",
   "id": "eeb91992",
   "metadata": {},
   "source": [
    "*Based on the results, the model with categorical variables only performs better than the model with numeric variables only*"
   ]
  },
  {
   "cell_type": "code",
   "execution_count": 120,
   "id": "3601dbee",
   "metadata": {},
   "outputs": [
    {
     "name": "stdout",
     "output_type": "stream",
     "text": [
      "Combined variables Rsq:  0.7999206763763921\n",
      "Combined variables RMSE:  0.20187237686198914\n"
     ]
    }
   ],
   "source": [
    "#combining numeric and categorical variables for regression:\n",
    "combined_training_data = pd.concat([training_data, X_train_c], axis=1)\n",
    "\n",
    "#combining test data from numeric and categorical variables\n",
    "combined_test_data = pd.concat([test_data, X_test_c], axis=1)\n",
    "\n",
    "combined_regression_model = linear_model.LinearRegression().fit(combined_training_data, y_train)\n",
    "predicted_values_combined = combined_regression_model.predict(combined_test_data)\n",
    "\n",
    "#rsquared and RMSE\n",
    "combined_test_set_r_squared = combined_regression_model.score(combined_test_data, y_test)\n",
    "print('Combined variables Rsq: ', combined_test_set_r_squared)\n",
    "combined_test_set_rmse = np.sqrt(np.mean((y_test - predicted_values_combined) ** 2))\n",
    "print('Combined variables RMSE: ', combined_test_set_rmse)\n"
   ]
  },
  {
   "cell_type": "markdown",
   "id": "aaa8466b",
   "metadata": {},
   "source": [
    "*The joint model performs the best though.*"
   ]
  },
  {
   "cell_type": "markdown",
   "id": "b04a0711",
   "metadata": {},
   "source": [
    "  5. Use the `PolynomialFeatures` function from `sklearn` to expand the set of numerical variables you're using in the regression. As you increase the degree of the expansion, how do the $R^2$ and `RMSE` change? At what point does $R^2$ go negative on the test set? For your best model with expanded features, what is the $R^2$ and `RMSE`? How does it compare to your best model from part 4?"
   ]
  },
  {
   "cell_type": "code",
   "execution_count": 140,
   "id": "d67aa62d",
   "metadata": {},
   "outputs": [
    {
     "name": "stdout",
     "output_type": "stream",
     "text": [
      "1 Rsq: 0.452658820542851\n",
      "1 RMSE: 0.3338911077824227\n",
      "2 Rsq: 0.43300919909237046\n",
      "2 RMSE: 0.33983162920268434\n",
      "3 Rsq: 0.4150160261462834\n",
      "3 RMSE: 0.3451817096004048\n",
      "4 Rsq: -13423702412.492298\n",
      "4 RMSE: 52289.194187010486\n"
     ]
    }
   ],
   "source": [
    "from sklearn.preprocessing import PolynomialFeatures\n",
    "\n",
    "#looping over different polynomial degrees\n",
    "for deg in np.arange(1, 5):\n",
    "    poly = PolynomialFeatures(degree=deg, include_bias=False)\n",
    "    \n",
    "    #expanding test data\n",
    "    test_exp = poly.fit_transform(test_data)\n",
    "    test_names = poly.get_feature_names_out()\n",
    "    test_df = pd.DataFrame(data=test_exp, columns=test_names)\n",
    "\n",
    "    #expanding training data\n",
    "    train_exp = poly.fit_transform(training_data)\n",
    "    train_names = poly.get_feature_names_out()\n",
    "    train_df = pd.DataFrame(data=train_exp, columns=train_names)\n",
    "\n",
    "    #combining expanded training data with categorical\n",
    "    train_df.reset_index(drop=True, inplace=True)\n",
    "    training_data.reset_index(drop=True, inplace=True)\n",
    "    train_all = pd.concat([train_df, training_data], axis=1)\n",
    "\n",
    "    #combining expanded test data with categorical\n",
    "    test_df.reset_index(drop=True, inplace=True)\n",
    "    test_data.reset_index(drop=True, inplace=True)\n",
    "    test_all = pd.concat([test_df, test_data], axis=1)\n",
    "\n",
    "    #regression model and R outputs\n",
    "    model = linear_model.LinearRegression().fit(train_all, y_train)\n",
    "    rsq = model.score(test_all, y_test)\n",
    "    print(deg, 'Rsq:', rsq)\n",
    "    preds = model.predict(test_all)\n",
    "    rmse = np.sqrt(np.mean((y_test - preds) ** 2))\n",
    "    print(deg, 'RMSE:', rmse)\n",
    "\n"
   ]
  },
  {
   "cell_type": "markdown",
   "id": "c9f81520",
   "metadata": {},
   "source": [
    "*As the degree of polynomial expansion in the model increases from 1 to 3, both the R^2 decreases and the RMSE increases, indicating the model's performance is worsening. At a polynomial degree of 4, the R^2 turns dramatically negative, signaling severe overfitting and poor model performance. The best model among the ones tested is with a polynomial degree of 1, having the highest R^2 and lowest RMSE, which suggests it most effectively captures the underlying pattern in the data. Higher-degree polynomial models lead to overfitting, as they start fitting noise rather than the actual trend.*"
   ]
  },
  {
   "cell_type": "markdown",
   "id": "b572f24a",
   "metadata": {},
   "source": [
    "  6. For your best model so far, determine the predicted values for the test data and plot them against the true values. Do the predicted values and true values roughly line up along the diagonal, or not? Compute the residuals/errors for the test data and create a kernel density plot. Do the residuals look roughly bell-shaped around zero? Evaluate the strengths and weaknesses of your model."
   ]
  },
  {
   "cell_type": "code",
   "execution_count": 142,
   "id": "ab6c8a98",
   "metadata": {},
   "outputs": [
    {
     "name": "stdout",
     "output_type": "stream",
     "text": [
      "1 Rsq: 0.452658820542851\n"
     ]
    }
   ],
   "source": [
    "#setting deg to 1 to just get the degree 1 values\n",
    "deg = 1\n",
    "\n",
    "poly = PolynomialFeatures(degree=deg, include_bias=False)   \n",
    "#expanding test data\n",
    "test_exp = poly.fit_transform(test_data)\n",
    "test_names = poly.get_feature_names_out()\n",
    "test_df = pd.DataFrame(data=test_exp, columns=test_names)\n",
    "\n",
    "#expanding training data\n",
    "train_exp = poly.fit_transform(training_data)\n",
    "train_names = poly.get_feature_names_out()\n",
    "train_df = pd.DataFrame(data=train_exp, columns=train_names)\n",
    "\n",
    "#combining expanded training data with categorical\n",
    "train_df.reset_index(drop=True, inplace=True)\n",
    "training_data.reset_index(drop=True, inplace=True)\n",
    "train_all = pd.concat([train_df, training_data], axis=1)\n",
    "\n",
    "#combining expanded test data with categorical\n",
    "test_df.reset_index(drop=True, inplace=True)\n",
    "test_data.reset_index(drop=True, inplace=True)\n",
    "test_all = pd.concat([test_df, test_data], axis=1)\n",
    "\n",
    "#regression model and R outputs\n",
    "model = linear_model.LinearRegression().fit(train_all, y_train)\n",
    "rsq = model.score(test_all, y_test)\n",
    "print(deg, 'Rsq:', rsq)\n",
    "preds = model.predict(test_all)\n",
    "rmse = np.sqrt(np.mean((y_test - preds) ** 2))"
   ]
  },
  {
   "cell_type": "code",
   "execution_count": 144,
   "id": "2e97e99c",
   "metadata": {},
   "outputs": [],
   "source": [
    "# Predictions and residuals:\n",
    "y_hat_all = model.predict(test_all)\n",
    "residuals = y_test - y_hat_all"
   ]
  },
  {
   "cell_type": "code",
   "execution_count": 145,
   "id": "92135ea2",
   "metadata": {},
   "outputs": [
    {
     "data": {
      "text/plain": [
       "<Axes: xlabel='PriceArc'>"
      ]
     },
     "execution_count": 145,
     "metadata": {},
     "output_type": "execute_result"
    },
    {
     "data": {
      "image/png": "[encoded data removed]",
      "text/plain": [
       "<Figure size 640x480 with 1 Axes>"
      ]
     },
     "metadata": {},
     "output_type": "display_data"
    }
   ],
   "source": [
    "# Scatterplot:\n",
    "sns.scatterplot(x=y_test,y=y_hat_all)"
   ]
  },
  {
   "cell_type": "code",
   "execution_count": 146,
   "id": "ca592b0d",
   "metadata": {},
   "outputs": [
    {
     "data": {
      "text/plain": [
       "<Axes: xlabel='PriceArc', ylabel='Density'>"
      ]
     },
     "execution_count": 146,
     "metadata": {},
     "output_type": "execute_result"
    },
    {
     "data": {
      "image/png": "[encoded data removed]",
      "text/plain": [
       "<Figure size 640x480 with 1 Axes>"
      ]
     },
     "metadata": {},
     "output_type": "display_data"
    }
   ],
   "source": [
    "sns.kdeplot(residuals)"
   ]
  },
  {
   "cell_type": "markdown",
   "id": "6201d2ee",
   "metadata": {},
   "source": [
    "*For the first degree model the values still seemed pretty scattered. They follow a diagonal pattern but its not that narrow. The residuals look good as there is only one peak at 0.0 and the curve appears to be pretty symetric.* "
   ]
  },
  {
   "cell_type": "markdown",
   "id": "7bd15c6b-4c7c-4230-a199-e03e1054ec6a",
   "metadata": {},
   "source": [
    "**Q3.** This is a question about linear regression. The outcome is whether a defendant is held pre-trial in the Virginia justice system. We would like to understand how that outcome is predicted by characteristics of the defendant, particularly race. Let's be very careful/clear: We aren't saying anyone *should* be held without bond or asserting that people with different demographic variables *should* be more likely to be held, but instead trying to predict whether people with different characteristics *are empirically more likely* to be held without bond, given the available information. This is the first step we would take in investigating whether a system is fair, or how large the disparities are: Does it treat people with similar observable characteristics similarly, or not? We are going to look at a common question: Are Black defendants treated differently from white or Asian ones? (There are Native American defendants, but there are 11 in total, which is such a small number of observations that is difficult to clearly say anything about how this group is treated relative to the others.)\n",
    "\n",
    "The variables in the data are:\n",
    "\n",
    "  - `held_wo_bail`: Whether a defendant is held without bail before trial (Boolean logical)\n",
    "  - `race`, `sex`: Categorical demographic variables\n",
    "  - `is_poor`: Whether the defendant is classified as indigent \n",
    "  - `prior_F`, `prior_M`: The number of prior felony and misdemeanor arrests\n",
    "  - `case_type`: A categorical variable indicating a misdemeanor `M` or felony `F` or infraction `I` or special case `S`\n",
    "  - `age`: Defendant's age\n",
    "  - `bond`, `bond_NA`, `bond_type`: The amount of any bond, whether it is missing, and the type\n",
    "  - `sentence`, `sentence_NA`, `sentence_type`: The length of any sentence, whether it is missing, and the type\n",
    "\n",
    "1. Load the `pretrial_data.csv` data. Notice that there are `nan`s, but the data are relatively clean. Because there are `.nan`s among variables you won't use, you'll want to narrow down your analysis to the relevant variables before dropping or imputing missing values.\n"
   ]
  },
  {
   "cell_type": "markdown",
   "id": "17555860",
   "metadata": {},
   "source": [
    "2. Create a dummy variable indicating that the defendant is Black.\n",
    "3. Regress `held` on `Black`. What is the slope coefficient Interpret the coefficient on the Black dummy variable: How much more likely is a black person to be held without bail? What is the $R^2$ of the model?\n",
    "4. Before doing this question, please think for a few minutes about how to make the process of running the following regressions as efficient as possible, before jumping into writing code. Repeat part 2, for the following specifications, keeping track of the coefficient on the Black dummy variable each time:\n",
    "      - `held` on `Black` and `sex`\n",
    "      - `held` on `Black` and `sex` and `is_poor`\n",
    "      - `held` on `Black` and `sex` and `is_poor` and `prior_F`\n",
    "      - `held` on `Black` and `sex` and `is_poor` and `prior_F` and `case_type`\n",
    "What happens to the coefficient on the Black dummy variable as you include more regressors/features/controls in the regression? Explain your findings.\n",
    "5. Suppose we don't want to see just `Black` and `sex`, but `Black` interacted with `sex`: Are Black men and Black women treated systemically differently from the rest of the population? Implement this in a regression, and explain your findings.\n",
    "6. Imagine someone argued we should use these kinds of models to help a judge or magistrate make bail decisions (you could obviously go back and make this kind of model for the bond and sentence variables, then deploy it on new cases to predict what their bond and sentence values would be). What concerns would you have? Do you think society should be using data-driven and automated tools like that? Explain your concerns clearly."
   ]
  },
  {
   "cell_type": "markdown",
   "id": "d0bedb79-b3d9-4db3-9b30-b92c9b618cec",
   "metadata": {},
   "source": [
    "**Q4.** This is a math question to review the derivation of the OLS estimator (but only if you are into that kind of thing!). We are going to do it slightly differently from what we did in class, though. We will use a linear predictor and minimize the Sum of Squared Errors, just as in class. But, we are going to de-mean $X$ first, creating another variable $z_i = x_i - \\bar{x}$ where \n",
    "$$\n",
    "\\bar{x} = \\dfrac{1}{N} \\sum_{i=1}^N x_i,\n",
    "$$\n",
    "so the model is $\\hat{y}_i = a + b z_i$ and the `SSE` is\n",
    "$$\n",
    "\\text{SSE}(a,b) = \\sum_{i=1}^N (y_i - a - bz_i)^2.\n",
    "$$\n",
    "\n",
    "  1. Take partial derivatives of the `SSE` with respect to $a$ and $b$. You should get\n",
    "\n",
    "\\begin{alignat*}{3}\n",
    "\\sum_{i=1}^N -2(y_i - a- bz_i) &=& 0 \\\\\n",
    "\\sum_{i=1}^N -2(y_i - a - bz_i)z_i &=& 0.\n",
    "\\end{alignat*}\n",
    "\n",
    "  2. Solve for the solutions to the above equations. Big hint: $\\bar{z} = 0$, since we subtracted the mean of $x$ from $x$ to get $z$. You should get\n",
    "\n",
    "\\begin{alignat*}{3}\n",
    "a^* &=& \\bar{y} \\\\\n",
    "b^* &=& \\dfrac{\\sum_{i=1}^N(y_i - \\bar{y})z_i}{\\sum_{i=1}^N z_i^2}.\n",
    "\\end{alignat*}\n",
    "\n",
    "  3. Substitute $z_i = x_i - \\bar{x}$ back into the above equations. You should get\n",
    "  \n",
    "\\begin{alignat*}{3}\n",
    "a^* &=& \\bar{y} \\\\\n",
    "b^* &=& \\dfrac{\\sum_{i=1}^N(y_i - \\bar{y})(x_i-\\bar{x})}{\\sum_{i=1}^N (x_i-\\bar{x})^2},\n",
    "\\end{alignat*}\n",
    "\n",
    "which can be written in terms of sample covariance and sample variance as:\n",
    "\n",
    "\\begin{alignat*}{3}\n",
    "a^* &=& \\bar{y} \\\\\n",
    "b^* &=& \\dfrac{\\text{cov}(x,y)}{\\text{var}(x)}.\n",
    "\\end{alignat*}\n",
    "\n",
    "This is typically the preferred way of expressing the OLS coefficients.\n",
    "\n",
    "4. When will $b^*$ be large or small, depending on the relationship between $x$ and $y$ and the amount of \"noise\"/variance in $x$? What does $a^*$ represent?\n",
    "5. Suppose you have measurement error in $x$ which artificially inflates its variance (e.g. bad data cleaning). What happens to the $b^*$ coefficient? How will affect your ability to predict? (This phenomenon is called **attenuation**.)"
   ]
  },
  {
   "cell_type": "markdown",
   "id": "b67478ac-ad78-4a44-9720-583c71b8da14",
   "metadata": {},
   "source": [
    "**Q5.** \n",
    "1. Find a dataset on a topic you're interested in. Some easy options are data.gov, kaggle.com, and data.world.\n",
    "2. Clean the data and do some exploratory data analysis on key variables that interest you. Pick a particular target/outcome variable and features/predictors.\n",
    "3. Split the sample into an ~80% training set and a ~20% test set.\n",
    "4. Run a few regressions of your target/outcome variable on a variety of features/predictors. Compute the SSE on the test set.\n",
    "5. Which model performed the best, and why?\n",
    "6. What did you learn?"
   ]
  }
 ],
 "metadata": {
  "kernelspec": {
   "display_name": "Python 3 (ipykernel)",
   "language": "python",
   "name": "python3"
  },
  "language_info": {
   "codemirror_mode": {
    "name": "ipython",
    "version": 3
   },
   "file_extension": ".py",
   "mimetype": "text/x-python",
   "name": "python",
   "nbconvert_exporter": "python",
   "pygments_lexer": "ipython3",
   "version": "3.11.8"
  }
 },
 "nbformat": 4,
 "nbformat_minor": 5
}
